{
  "nbformat": 4,
  "nbformat_minor": 0,
  "metadata": {
    "colab": {
      "provenance": [],
      "authorship_tag": "ABX9TyPh1fkc45cTnuLkt+k9+1tz",
      "include_colab_link": true
    },
    "kernelspec": {
      "name": "python3",
      "display_name": "Python 3"
    },
    "language_info": {
      "name": "python"
    }
  },
  "cells": [
    {
      "cell_type": "markdown",
      "metadata": {
        "id": "view-in-github",
        "colab_type": "text"
      },
      "source": [
        "<a href=\"https://colab.research.google.com/github/ryaneulin/CPE-201L-DSA-2---A/blob/main/CPE_201L_DSA_2_A_Activity_1.ipynb\" target=\"_parent\"><img src=\"https://colab.research.google.com/assets/colab-badge.svg\" alt=\"Open In Colab\"/></a>"
      ]
    },
    {
      "cell_type": "markdown",
      "source": [
        "# Create a Python program that computes the area if a circle"
      ],
      "metadata": {
        "id": "dVuBIh4L0IUS"
      }
    },
    {
      "cell_type": "code",
      "execution_count": 17,
      "metadata": {
        "colab": {
          "base_uri": "https://localhost:8080/"
        },
        "id": "wcUsRZYNz53F",
        "outputId": "1f6fad64-0c91-4986-84e8-63055b3dd795"
      },
      "outputs": [
        {
          "name": "stdout",
          "output_type": "stream",
          "text": [
            "\n",
            "--------------------------  \n",
            "|  Pick a Measuring Tool |\n",
            "|                        |\n",
            "|       Diameter         |\n",
            "|       Radius           |\n",
            "|       Exit             |\n",
            "--------------------------\n",
            "\n",
            "Pick a measuring tool: diameter\n",
            "Enter an Integer; 10\n",
            "Area of the cicle 78.53750000000001.\n",
            "\n",
            "--------------------------  \n",
            "|  Pick a Measuring Tool |\n",
            "|                        |\n",
            "|       Diameter         |\n",
            "|       Radius           |\n",
            "|       Exit             |\n",
            "--------------------------\n",
            "\n",
            "Pick a measuring tool: radius\n",
            "Enter an Integer: 5\n",
            "Area of the cicle 78.53750000000001.\n",
            "\n",
            "--------------------------  \n",
            "|  Pick a Measuring Tool |\n",
            "|                        |\n",
            "|       Diameter         |\n",
            "|       Radius           |\n",
            "|       Exit             |\n",
            "--------------------------\n",
            "\n",
            "Pick a measuring tool: exit\n"
          ]
        }
      ],
      "source": [
        "#Create a Python program that computes the area if a circle\n",
        "\n",
        "def circle_d():\n",
        "  length = int(input(\"Enter an Integer; \"))\n",
        "  half = length / 2\n",
        "  formula = pow(half, 2)* (3.1415)\n",
        "  print(f\"Area of the cicle {formula}.\")\n",
        "\n",
        "\n",
        "def circle_r():\n",
        "  length = int(input(\"Enter an Integer: \"))\n",
        "  formula = pow(length, 2)* (3.1415)\n",
        "  print(f\"Area of the cicle {formula}.\")\n",
        "\n",
        "def main():\n",
        "  while True:\n",
        "    print(\"\"\"\n",
        "--------------------------\n",
        "|  Pick a Measuring Tool |\n",
        "|                        |\n",
        "|       Diameter         |\n",
        "|       Radius           |\n",
        "|       Exit             |\n",
        "--------------------------\n",
        "\"\"\")\n",
        "\n",
        "    choice = input(\"Pick a measuring tool: \").lower()\n",
        "    if choice == \"diameter\":\n",
        "      circle_d()\n",
        "\n",
        "    elif choice == \"radius\":\n",
        "      circle_r()\n",
        "\n",
        "    else:\n",
        "      break\n",
        "\n",
        "main()"
      ]
    }
  ]
}