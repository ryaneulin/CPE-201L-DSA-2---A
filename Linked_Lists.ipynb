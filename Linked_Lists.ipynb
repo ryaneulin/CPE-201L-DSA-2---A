{
  "nbformat": 4,
  "nbformat_minor": 0,
  "metadata": {
    "colab": {
      "provenance": [],
      "authorship_tag": "ABX9TyOwWHtODySqp865xrChm6ui",
      "include_colab_link": true
    },
    "kernelspec": {
      "name": "python3",
      "display_name": "Python 3"
    },
    "language_info": {
      "name": "python"
    }
  },
  "cells": [
    {
      "cell_type": "markdown",
      "metadata": {
        "id": "view-in-github",
        "colab_type": "text"
      },
      "source": [
        "<a href=\"https://colab.research.google.com/github/ryaneulin/CPE-201L-DSA-2---A/blob/main/Linked_Lists.ipynb\" target=\"_parent\"><img src=\"https://colab.research.google.com/assets/colab-badge.svg\" alt=\"Open In Colab\"/></a>"
      ]
    },
    {
      "cell_type": "code",
      "execution_count": 12,
      "metadata": {
        "id": "QZgklgXSMoNS",
        "colab": {
          "base_uri": "https://localhost:8080/"
        },
        "outputId": "1ae17541-a3c1-4db1-ee35-5863b5ee51a0"
      },
      "outputs": [
        {
          "output_type": "stream",
          "name": "stdout",
          "text": [
            "\n",
            "The Original Data\n",
            "A\n",
            "B\n",
            "C\n",
            "D\n",
            "\n",
            "The Updated Data\n",
            "B\n",
            "C\n",
            "D\n",
            "Jolibee\n"
          ]
        }
      ],
      "source": [
        "# Node class\n",
        "class Node:\n",
        "\n",
        "    # Function to initialize the node object\n",
        "    def __init__(self, data):\n",
        "        self.data = data # Assign data\n",
        "        self.next = None # Initialize\n",
        "                        # next as null\n",
        "\n",
        "# Linked List class\n",
        "class LinkedList:\n",
        "\n",
        "    # Function to initialize the Linked\n",
        "    # List object\n",
        "    def __init__(self):\n",
        "        self.head = None\n",
        "    def print_data(self):\n",
        "      current =self.head\n",
        "      while current:\n",
        "        print(current.data)\n",
        "        current=current.next\n",
        "\n",
        "    def delete_node(self, keys):\n",
        "      current = self.head\n",
        "      if current.data and current.data == keys:\n",
        "        self.head = current.next\n",
        "        current = None\n",
        "        return\n",
        "\n",
        "      prev = None\n",
        "      while current and current.data != keys:\n",
        "        prev = current\n",
        "        current = current.next\n",
        "\n",
        "      if current is None:\n",
        "        return\n",
        "\n",
        "      prev.next = current.next\n",
        "      current = None\n",
        "\n",
        "    def append(self, new_data):\n",
        "      new_node = Node(new_data)\n",
        "      if not self.head:\n",
        "        self.head = new_node\n",
        "        return\n",
        "      last = self.head\n",
        "      while last.next:\n",
        "        last = last.next\n",
        "      last.next = new_node\n",
        "\n",
        "if __name__ == \"__main__\":\n",
        "  llist = LinkedList()\n",
        "\n",
        "# Start with the empty list\n",
        "  llist = LinkedList()\n",
        "\n",
        "  llist.head = Node(\"A\")  #object name1\n",
        "  second = Node(\"B\")        #object name2\n",
        "  third = Node(\"C\")\n",
        "  fourth = Node(\"D\")\n",
        "\n",
        "  llist.head.next = second # Link first node with second\n",
        "  second.next = third # Link second node with the third node\n",
        "  third.next = fourth #Link third to fourth\n",
        "  print(\"\\nThe Original Data\")\n",
        "  llist.print_data()\n",
        "  print(\"\\nThe Updated Data\")\n",
        "  llist.append('Jolibee')\n",
        "  llist.delete_node('A')\n",
        "  llist.print_data()\n"
      ]
    }
  ]
}