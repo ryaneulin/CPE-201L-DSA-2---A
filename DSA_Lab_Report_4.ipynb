{
  "nbformat": 4,
  "nbformat_minor": 0,
  "metadata": {
    "colab": {
      "provenance": [],
      "authorship_tag": "ABX9TyOxqWh0f0SuwWv+VEm5upGm",
      "include_colab_link": true
    },
    "kernelspec": {
      "name": "python3",
      "display_name": "Python 3"
    },
    "language_info": {
      "name": "python"
    }
  },
  "cells": [
    {
      "cell_type": "markdown",
      "metadata": {
        "id": "view-in-github",
        "colab_type": "text"
      },
      "source": [
        "<a href=\"https://colab.research.google.com/github/ryaneulin/CPE-201L-DSA-2---A/blob/main/DSA_Lab_Report_4.ipynb\" target=\"_parent\"><img src=\"https://colab.research.google.com/assets/colab-badge.svg\" alt=\"Open In Colab\"/></a>"
      ]
    },
    {
      "cell_type": "code",
      "execution_count": 7,
      "metadata": {
        "colab": {
          "base_uri": "https://localhost:8080/"
        },
        "id": "WSEMmUirjYyg",
        "outputId": "529ed5ed-67de-4ee8-efdd-ad3dbaabc8d0"
      },
      "outputs": [
        {
          "output_type": "stream",
          "name": "stdout",
          "text": [
            "Apple price is 10 and how many i want 7.\n",
            "This is a Fruit\n",
            "Banana price is 10 and how many i want 8.\n",
            "This is a Fruit\n",
            "Broccoli price is 60 and how many i want 12.\n",
            "This is a Vegetable\n",
            "Lettuce price is 50 and how many i want 10.\n",
            "This is a Vegetable\n",
            "\n",
            "Jenna's Grocery List\n",
            "Apple, PHP10, x7\n",
            "Banana, PHP10, x8\n",
            "Broccoli, PHP60, x12\n",
            "Lettuce, PHP50, x10\n",
            "\n",
            "The total cost of the Grocery List is 1370\n",
            "\n",
            "Cleaning Up....\n",
            "Apple is already bought. Deleted.\n",
            "Banana is already bought. Deleted.\n",
            "Broccoli is already bought. Deleted.\n",
            "Lettuce is already bought. Deleted.\n"
          ]
        }
      ],
      "source": [
        "#Jenna wants to buy the following fruits and vegetables for her daily consumption. However, she needs to distinguish between fruit and vegetable, as well as calculate the sum of prices that she has to pay in total.\n",
        "\n",
        "#Problem 1: Create a class for the fruit and the vegetable classes. Each class must have a constructor, deconstructor, copy constructor and copy assignment operator. They must also have all relevant attributes (such as name, price and quantity) and functions (such as calculate sum) as presented in the problem description above.\n",
        "\n",
        "#Problem 2: Create an array GroceryList in the driver code that will contain all items in Jenna’s Grocery List. You must then access each saved instance and display all details about the items.\n",
        "\n",
        "#Problem 3: Create a function TotalSum that will calculate the sum of all objects listed in Jenna’s Grocery List.\n",
        "\n",
        "class Jenna_GroceryList():\n",
        "    grocery_list = []\n",
        "    def __init__(self, name, price, quantity):\n",
        "        self.name = name\n",
        "        self.price = price\n",
        "        self.quantity = quantity\n",
        "        Jenna_GroceryList.grocery_list.append(self)\n",
        "        print(f\"{self.name} price is {self.price} and how many i want {self.quantity}.\")\n",
        "\n",
        "    def cleanup(self):\n",
        "        print(f\"{self.name} is already bought. Deleted.\")\n",
        "\n",
        "    def __str__(self):\n",
        "        return f\"{self.name}, PHP{self.price}, x{self.quantity}\"\n",
        "\n",
        "    def copy_constructor(self):\n",
        "        other = Jenna_GroceryList(self.name, self.price, self.quantity)\n",
        "        print(f\"This is the name, price and quantity respectively {other}\")\n",
        "        return other\n",
        "\n",
        "    def copy_assignment_operator(self, other):\n",
        "        self.name = other.name\n",
        "        self.price = other.price\n",
        "        self.quantity = other.quantity\n",
        "        print(f\"Changed to {self.name}, PHP{self.price},x{self.quantity}\")\n",
        "\n",
        "    def total_sum(self):\n",
        "        total = 0\n",
        "        for items in Jenna_GroceryList.grocery_list:\n",
        "            total += items.price * items.quantity\n",
        "        return total\n",
        "\n",
        "class Fruit(Jenna_GroceryList):\n",
        "    def __init__(self, name, price, quantity):\n",
        "        super().__init__(name, price, quantity)\n",
        "        print(f\"This is a Fruit\")\n",
        "\n",
        "class Vegetable(Jenna_GroceryList):\n",
        "    def __init__(self, name, price, quantity):\n",
        "        super().__init__(name, price, quantity)\n",
        "        print(f\"This is a Vegetable\")\n",
        "\n",
        "if __name__ == \"__main__\":\n",
        "    apple = Fruit(\"Apple\", 10, 7)\n",
        "    banana = Fruit(\"Banana\", 10, 8)\n",
        "    broccoli = Vegetable(\"Broccoli\", 60, 12)\n",
        "    lettuce = Vegetable(\"Lettuce\", 50, 10)\n",
        "\n",
        "    print(\"\\nJenna's Grocery List\")\n",
        "    for items in Jenna_GroceryList.grocery_list:\n",
        "        print(items)\n",
        "\n",
        "    print(f\"\\nThe total cost of the Grocery List is {apple.total_sum()}\")\n",
        "\n",
        "    print(\"\\nCleaning Up....\")\n",
        "    for items in Jenna_GroceryList.grocery_list:\n",
        "      items.cleanup()"
      ]
    }
  ]
}