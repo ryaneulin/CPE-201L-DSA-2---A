{
  "nbformat": 4,
  "nbformat_minor": 0,
  "metadata": {
    "colab": {
      "provenance": [],
      "authorship_tag": "ABX9TyMFL8UnrHZXuZUmD0OQHr06",
      "include_colab_link": true
    },
    "kernelspec": {
      "name": "python3",
      "display_name": "Python 3"
    },
    "language_info": {
      "name": "python"
    }
  },
  "cells": [
    {
      "cell_type": "markdown",
      "metadata": {
        "id": "view-in-github",
        "colab_type": "text"
      },
      "source": [
        "<a href=\"https://colab.research.google.com/github/ryaneulin/CPE-201L-DSA-2---A/blob/main/Midterm_Skill_Test.ipynb\" target=\"_parent\"><img src=\"https://colab.research.google.com/assets/colab-badge.svg\" alt=\"Open In Colab\"/></a>"
      ]
    },
    {
      "cell_type": "code",
      "execution_count": 59,
      "metadata": {
        "colab": {
          "base_uri": "https://localhost:8080/"
        },
        "id": "7G8xPlA5A5Ci",
        "outputId": "102e05e0-93dd-4ee3-da08-0a261cc28ae2"
      },
      "outputs": [
        {
          "output_type": "stream",
          "name": "stdout",
          "text": [
            "Display The Elements\n",
            "20 22 24 26 28 30 32 34 36 38 40 42 44 46 48 \n",
            "\n",
            "Maximum Number\n",
            "This is the 48\n",
            "\n",
            "Rversed Array\n",
            "48 46 44 42 40 38 36 34 32 30 28 26 24 22 20 "
          ]
        }
      ],
      "source": [
        "import array\n",
        "\n",
        "def get_array():\n",
        "    return array.array('i', list(range(20, 50, 2)))\n",
        "\n",
        "def display(arr):\n",
        "    print(\"Display The Elements\")\n",
        "    for num in arr:\n",
        "      print(num, end=\" \")\n",
        "\n",
        "def maximum_num(arr):\n",
        "    print(\"\\n\\nMaximum Number\")\n",
        "    maxi_num = arr[0]\n",
        "    for num in arr:\n",
        "      if num > maxi_num:\n",
        "        maxi_num = num\n",
        "    return maxi_num\n",
        "\n",
        "def reverse_array(arr):\n",
        "  rever_array = array.array('i', arr[::-1])\n",
        "  print(\"\\nRversed Array\")\n",
        "  for num in rever_array:\n",
        "    print(num, end=\" \")\n",
        "  return num\n",
        "\n",
        "if __name__==\"__main__\":\n",
        "  arr = get_array()\n",
        "  display(arr)\n",
        "  max_value = maximum_num(arr)\n",
        "  print(f\"This is the {max_value}\")\n",
        "  reversed_array = reverse_array(arr)\n",
        ""
      ]
    },
    {
      "cell_type": "code",
      "source": [],
      "metadata": {
        "id": "1jgB2bgGDbik"
      },
      "execution_count": null,
      "outputs": []
    }
  ]
}