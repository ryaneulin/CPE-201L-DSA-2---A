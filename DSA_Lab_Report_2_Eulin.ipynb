{
  "nbformat": 4,
  "nbformat_minor": 0,
  "metadata": {
    "colab": {
      "provenance": [],
      "authorship_tag": "ABX9TyNiRdnu0wsT5PQpvOZ/c+D7",
      "include_colab_link": true
    },
    "kernelspec": {
      "name": "python3",
      "display_name": "Python 3"
    },
    "language_info": {
      "name": "python"
    }
  },
  "cells": [
    {
      "cell_type": "markdown",
      "metadata": {
        "id": "view-in-github",
        "colab_type": "text"
      },
      "source": [
        "<a href=\"https://colab.research.google.com/github/ryaneulin/CPE-201L-DSA-2---A/blob/main/DSA_Lab_Report_2_Eulin.ipynb\" target=\"_parent\"><img src=\"https://colab.research.google.com/assets/colab-badge.svg\" alt=\"Open In Colab\"/></a>"
      ]
    },
    {
      "cell_type": "markdown",
      "source": [
        "C.\tWrite a short recursive Python function that finds the minimum and maximum values in a sequence without using any loops"
      ],
      "metadata": {
        "id": "iCPyxznZ5gZJ"
      }
    },
    {
      "cell_type": "code",
      "execution_count": 5,
      "metadata": {
        "id": "i8G8rwSZc7pn",
        "colab": {
          "base_uri": "https://localhost:8080/"
        },
        "outputId": "b22306d6-8987-4547-f2bf-11f8b1f84466"
      },
      "outputs": [
        {
          "output_type": "stream",
          "name": "stdout",
          "text": [
            "Give me  a list of number: 2 2 55 4 6 78 9 6 77 98 1001 2 3 4\n",
            "Maximum number is: 1001\n"
          ]
        }
      ],
      "source": [
        "sequence = list(map(int, input(\"Give me  a list of number: \").split()))\n",
        "\n",
        "def recursive_max(sequence):\n",
        "\n",
        "  if len(sequence) == 1:\n",
        "    return sequence[0]\n",
        "\n",
        "  else:\n",
        "    max_number = recursive_max(sequence[1:])\n",
        "    if sequence[0] > max_number :\n",
        "      return sequence[0]\n",
        "\n",
        "    else:\n",
        "      return max_number\n",
        "\n",
        "print(\"Maximum number is:\", recursive_max(sequence))"
      ]
    }
  ]
}