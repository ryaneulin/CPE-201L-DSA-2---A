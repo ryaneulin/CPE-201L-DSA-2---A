{
  "nbformat": 4,
  "nbformat_minor": 0,
  "metadata": {
    "colab": {
      "provenance": [],
      "authorship_tag": "ABX9TyOtyv3ZpFPCMh026XyzChAe",
      "include_colab_link": true
    },
    "kernelspec": {
      "name": "python3",
      "display_name": "Python 3"
    },
    "language_info": {
      "name": "python"
    }
  },
  "cells": [
    {
      "cell_type": "markdown",
      "metadata": {
        "id": "view-in-github",
        "colab_type": "text"
      },
      "source": [
        "<a href=\"https://colab.research.google.com/github/ryaneulin/CPE-201L-DSA-2---A/blob/main/Skill_Test.ipynb\" target=\"_parent\"><img src=\"https://colab.research.google.com/assets/colab-badge.svg\" alt=\"Open In Colab\"/></a>"
      ]
    },
    {
      "cell_type": "markdown",
      "source": [
        "Array"
      ],
      "metadata": {
        "id": "53ZAwiK1XH96"
      }
    },
    {
      "cell_type": "code",
      "execution_count": 16,
      "metadata": {
        "id": "GQym5a8IMZUQ",
        "colab": {
          "base_uri": "https://localhost:8080/"
        },
        "outputId": "3f897698-c108-41a4-9876-7f3a90617054"
      },
      "outputs": [
        {
          "output_type": "stream",
          "name": "stdout",
          "text": [
            "Name in the array:  ['R', 'y', 'a', 'n', ' ', 'B', 'e', 'r', 't', 'r', 'a', 'n', 'd', ' ', 'B', '.', ' ', 'E', 'u', 'l', 'i', 'n']\n",
            "Traverse\n",
            "My Full Name\n",
            "Ryan Bertrand B. Eulin"
          ]
        }
      ],
      "source": [
        "def n_array(name):\n",
        "    name_array = []\n",
        "    for char in name:\n",
        "#Append\n",
        "        name_array.append(char)\n",
        "    print(\"Name in the array: \", name_array)\n",
        "# Traverse\n",
        "    print(\"Traverse\")\n",
        "    print(\"My Full Name\")\n",
        "    for char in name_array:\n",
        "      print(char, end = \"\")\n",
        "    return name_array\n",
        "if __name__==\"__main__\":\n",
        "    my_name = \"Ryan Bertrand B. Eulin\"\n",
        "    n_array(my_name)"
      ]
    },
    {
      "cell_type": "markdown",
      "source": [
        "Built in Module (Array)"
      ],
      "metadata": {
        "id": "nlF8yGjUXgEk"
      }
    },
    {
      "cell_type": "code",
      "source": [
        "import array\n",
        "\n",
        "array.typecodes\n",
        "a = array.array(\"u\", ['R', 'y', 'a', 'n', ' ', 'B', 'e', 'r', 't', 'r', 'a', 'n', 'd', ' ', 'B', '.', ' ', 'E', 'u', 'l', 'i', 'n'])\n",
        "a.typecode\n",
        "print(a)"
      ],
      "metadata": {
        "colab": {
          "base_uri": "https://localhost:8080/"
        },
        "id": "GWea30NzXkgV",
        "outputId": "8b2badd0-1ff9-4d49-8a79-068d1daa6310"
      },
      "execution_count": 24,
      "outputs": [
        {
          "output_type": "stream",
          "name": "stdout",
          "text": [
            "array('u', 'Ryan Bertrand B. Eulin')\n"
          ]
        }
      ]
    },
    {
      "cell_type": "code",
      "source": [
        "Stacks"
      ],
      "metadata": {
        "id": "UCFu1SK-gV8q"
      },
      "execution_count": null,
      "outputs": []
    },
    {
      "cell_type": "code",
      "source": [
        "from ast import NodeTransformer\n",
        "class Stack:\n",
        "  def __init__(self):\n",
        "    self.stack = None\n",
        "\n",
        "  def append(self):\n",
        "    pass\n",
        "\n",
        "  def traverse():\n",
        "    pass"
      ],
      "metadata": {
        "colab": {
          "base_uri": "https://localhost:8080/",
          "height": 106
        },
        "id": "uXMF0E2ufLyY",
        "outputId": "f5fc748c-67ad-4290-de50-deb4312f7341"
      },
      "execution_count": 25,
      "outputs": [
        {
          "output_type": "error",
          "ename": "SyntaxError",
          "evalue": "incomplete input (ipython-input-3571567919.py, line 2)",
          "traceback": [
            "\u001b[0;36m  File \u001b[0;32m\"/tmp/ipython-input-3571567919.py\"\u001b[0;36m, line \u001b[0;32m2\u001b[0m\n\u001b[0;31m    def __init__(self):\u001b[0m\n\u001b[0m                       ^\u001b[0m\n\u001b[0;31mSyntaxError\u001b[0m\u001b[0;31m:\u001b[0m incomplete input\n"
          ]
        }
      ]
    },
    {
      "cell_type": "code",
      "source": [],
      "metadata": {
        "id": "ClN6y9y3gkLE"
      },
      "execution_count": null,
      "outputs": []
    }
  ]
}