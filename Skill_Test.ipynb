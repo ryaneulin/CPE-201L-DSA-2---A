{
  "nbformat": 4,
  "nbformat_minor": 0,
  "metadata": {
    "colab": {
      "provenance": [],
      "authorship_tag": "ABX9TyNgeanU4HBDZ7tkR3zQHNa5",
      "include_colab_link": true
    },
    "kernelspec": {
      "name": "python3",
      "display_name": "Python 3"
    },
    "language_info": {
      "name": "python"
    }
  },
  "cells": [
    {
      "cell_type": "markdown",
      "metadata": {
        "id": "view-in-github",
        "colab_type": "text"
      },
      "source": [
        "<a href=\"https://colab.research.google.com/github/ryaneulin/CPE-201L-DSA-2---A/blob/main/Skill_Test.ipynb\" target=\"_parent\"><img src=\"https://colab.research.google.com/assets/colab-badge.svg\" alt=\"Open In Colab\"/></a>"
      ]
    },
    {
      "cell_type": "markdown",
      "source": [
        "Array"
      ],
      "metadata": {
        "id": "53ZAwiK1XH96"
      }
    },
    {
      "cell_type": "code",
      "execution_count": 30,
      "metadata": {
        "id": "GQym5a8IMZUQ",
        "colab": {
          "base_uri": "https://localhost:8080/"
        },
        "outputId": "85c45b5e-f6c0-48c5-af99-0966709b2b2c"
      },
      "outputs": [
        {
          "output_type": "stream",
          "name": "stdout",
          "text": [
            "Name in the array:  ['R', 'y', 'a', 'n', ' ', 'B', 'e', 'r', 't', 'r', 'a', 'n', 'd', ' ', 'B', '.', ' ', 'E', 'u', 'l', 'i', 'n']\n",
            "Traverse\n",
            "My Full Name\n",
            "Ryan Bertrand B. Eulin"
          ]
        }
      ],
      "source": [
        "name_array = []\n",
        "def n_array(name):\n",
        "    for char in name:\n",
        "#Append\n",
        "        name_array.append(char)\n",
        "    print(\"Name in the array: \", name_array)\n",
        "\n",
        "def traverse():\n",
        "    print(\"Traverse\")\n",
        "    print(\"My Full Name\")\n",
        "    for char in name_array:\n",
        "      print(char, end = \"\")\n",
        "    return name_array\n",
        "if __name__==\"__main__\":\n",
        "    my_name = \"Ryan Bertrand B. Eulin\"\n",
        "    n_array(my_name)\n",
        "    traverse()"
      ]
    },
    {
      "cell_type": "markdown",
      "source": [
        "Built in Module (Array)"
      ],
      "metadata": {
        "id": "nlF8yGjUXgEk"
      }
    },
    {
      "cell_type": "code",
      "source": [
        "import array\n",
        "\n",
        "array.typecodes\n",
        "a = array.array(\"u\", ['R', 'y', 'a', 'n', ' ', 'B', 'e', 'r', 't', 'r', 'a', 'n', 'd', ' ', 'B', '.', ' ', 'E', 'u', 'l', 'i', 'n'])\n",
        "a.typecode\n",
        "print(a)"
      ],
      "metadata": {
        "colab": {
          "base_uri": "https://localhost:8080/"
        },
        "id": "GWea30NzXkgV",
        "outputId": "8b2badd0-1ff9-4d49-8a79-068d1daa6310"
      },
      "execution_count": 24,
      "outputs": [
        {
          "output_type": "stream",
          "name": "stdout",
          "text": [
            "array('u', 'Ryan Bertrand B. Eulin')\n"
          ]
        }
      ]
    },
    {
      "cell_type": "markdown",
      "source": [
        "Stacks"
      ],
      "metadata": {
        "id": "xLRz87ImAB4L"
      }
    },
    {
      "cell_type": "code",
      "source": [
        "class Stack:\n",
        "  def __init__(self):\n",
        "    self.stack = None\n",
        "\n",
        "  def append(self):\n",
        "    pass\n",
        "\n",
        "  def traverse(self):\n",
        "    pass"
      ],
      "metadata": {
        "id": "uXMF0E2ufLyY"
      },
      "execution_count": 26,
      "outputs": []
    },
    {
      "cell_type": "code",
      "source": [],
      "metadata": {
        "id": "ClN6y9y3gkLE"
      },
      "execution_count": null,
      "outputs": []
    }
  ]
}