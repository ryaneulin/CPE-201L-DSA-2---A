{
  "nbformat": 4,
  "nbformat_minor": 0,
  "metadata": {
    "colab": {
      "provenance": [],
      "authorship_tag": "ABX9TyOH129Zi0VM2YM0MafC9ek6",
      "include_colab_link": true
    },
    "kernelspec": {
      "name": "python3",
      "display_name": "Python 3"
    },
    "language_info": {
      "name": "python"
    }
  },
  "cells": [
    {
      "cell_type": "markdown",
      "metadata": {
        "id": "view-in-github",
        "colab_type": "text"
      },
      "source": [
        "<a href=\"https://colab.research.google.com/github/ryaneulin/CPE-201L-DSA-2---A/blob/main/DSA_Lab_Report_1_Eulin.ipynb\" target=\"_parent\"><img src=\"https://colab.research.google.com/assets/colab-badge.svg\" alt=\"Open In Colab\"/></a>"
      ]
    },
    {
      "cell_type": "markdown",
      "source": [
        "B.\tWrite a Python class, Polygons that has three instance variables of type str, int, and float, that respectively represent the name of the polygon, its number of sides, and its area. Your class must include a constructor method that initializes each variable to an appropriate value, and your class should include methods for setting the value of each type and retrieving the value of each type."
      ],
      "metadata": {
        "id": "pIjmXLe5EcRr"
      }
    },
    {
      "cell_type": "code",
      "execution_count": null,
      "metadata": {
        "colab": {
          "base_uri": "https://localhost:8080/"
        },
        "id": "NKfLTihkDuEY",
        "outputId": "d528f786-304a-4a6c-c0c6-a33f48f4f7b6"
      },
      "outputs": [
        {
          "output_type": "stream",
          "name": "stdout",
          "text": [
            "Polygon name = Traiangle, sides = 3, area = 4.5.\n"
          ]
        }
      ],
      "source": [
        "class Polygon:\n",
        "\n",
        "  def __init__(self, sides, name, area):\n",
        "    self.sides = sides\n",
        "    self.name = name\n",
        "    self.area = area\n",
        "\n",
        "  def get_sides(self):\n",
        "    return self.sides\n",
        "\n",
        "  def get_name(self):\n",
        "    return self.name\n",
        "\n",
        "  def get_area(self):\n",
        "    return self.area\n",
        "\n",
        "  def set_sides(self, sides):\n",
        "    self.sides = sides\n",
        "\n",
        "  def set_name(self, name):\n",
        "    self.name = name\n",
        "\n",
        "  def set_area(self, area):\n",
        "    self.area = area\n",
        "\n",
        "  def __str__(self):\n",
        "    return f\"Polygon name = {self.name}, sides = {self.sides}, area = {self.area}.\"\n",
        "\n",
        "poly = Polygon(3, \"Traiangle\", 4.5)\n",
        "print(poly)"
      ]
    }
  ]
}