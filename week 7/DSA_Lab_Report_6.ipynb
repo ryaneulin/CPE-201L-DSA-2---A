{
  "cells": [
    {
      "cell_type": "markdown",
      "metadata": {
        "id": "view-in-github",
        "colab_type": "text"
      },
      "source": [
        "<a href=\"https://colab.research.google.com/github/ryaneulin/CPE-201L-DSA-2---A/blob/main/DSA_Lab_Report_6.ipynb\" target=\"_parent\"><img src=\"https://colab.research.google.com/assets/colab-badge.svg\" alt=\"Open In Colab\"/></a>"
      ]
    },
    {
      "cell_type": "markdown",
      "metadata": {
        "id": "DyNpy_d5jgt-"
      },
      "source": [
        "Write a python program to create a singly linked list of a prime number less than 20. BY iterating through the list, display all the prime numbers, te head and th tail of the list (using Google Colab)"
      ]
    },
    {
      "cell_type": "code",
      "execution_count": 15,
      "metadata": {
        "colab": {
          "base_uri": "https://localhost:8080/"
        },
        "id": "Dt8oyamnjfQA",
        "outputId": "3c088af7-a377-48fb-a8f6-8f2ec3de6180"
      },
      "outputs": [
        {
          "output_type": "stream",
          "name": "stdout",
          "text": [
            "Numbers that's Prime or Not Prime\n",
            "2 is prime ✓\n",
            "3 is prime ✓\n",
            "4 is not prime ✗\n",
            "5 is prime ✓\n",
            "6 is not prime ✗\n",
            "7 is prime ✓\n",
            "8 is not prime ✗\n",
            "9 is not prime ✗\n",
            "10 is not prime ✗\n",
            "11 is prime ✓\n",
            "12 is not prime ✗\n",
            "13 is prime ✓\n",
            "14 is not prime ✗\n",
            "15 is not prime ✗\n",
            "16 is not prime ✗\n",
            "17 is prime ✓\n",
            "18 is not prime ✗\n",
            "19 is prime ✓\n",
            "\n",
            "=== Prime Numbers in Linked List ===\n",
            "2 3 5 7 11 13 17 19 \n",
            "\n",
            "Head (first element): 2\n",
            "Tail (last element): 19\n"
          ]
        }
      ],
      "source": [
        "# Node class\n",
        "class Node:\n",
        "\n",
        "    # Function to initialize the node object\n",
        "    def __init__(self, data):\n",
        "        self.data = data # Assign data\n",
        "        self.next = None # Initialize\n",
        "                        # next as null\n",
        "\n",
        "# Linked List class\n",
        "class LinkedList:\n",
        "\n",
        "    # Function to initialize the Linked\n",
        "    # List object\n",
        "    def __init__(self):\n",
        "        self.head = None\n",
        "    def print_data(self):\n",
        "      current = self.head\n",
        "      while current:\n",
        "        print(current.data)\n",
        "        current = current.next\n",
        "\n",
        "    def delete_node(self, keys):\n",
        "      current = self.head\n",
        "      if current is not None and current.data == keys:\n",
        "        self.head = current.next\n",
        "        current = None\n",
        "        return\n",
        "\n",
        "      prev = None\n",
        "      while current is not None and current.data != keys:\n",
        "        prev = current\n",
        "        current = current.next\n",
        "\n",
        "      if current is None:\n",
        "        return\n",
        "\n",
        "      prev.next = current.next\n",
        "      current = None\n",
        "\n",
        "    def append(self, new_data):\n",
        "      new_node = Node(new_data)\n",
        "      if not self.head:\n",
        "        self.head = new_node\n",
        "        return\n",
        "      last = self.head\n",
        "      while last.next:\n",
        "        last = last.next\n",
        "      last.next = new_node\n",
        "\n",
        "    def display(self):\n",
        "        current = self.head\n",
        "        while current is not None:\n",
        "            print(current.data, end=\" \" )\n",
        "            current = current.next\n",
        "        print()\n",
        "\n",
        "\n",
        "    def ghead(self):\n",
        "        if self.head is not None:\n",
        "            return self.head.data\n",
        "        return None\n",
        "\n",
        "    def gtail(self):\n",
        "        if self.head is None:\n",
        "            return None\n",
        "        current = self.head\n",
        "        while current.next is not None:\n",
        "            current = current.next\n",
        "        return current.data\n",
        "\n",
        "def is_prime(num):\n",
        "    if num < 2:\n",
        "        return False\n",
        "    for i in range(2, num):\n",
        "        if num % i == 0:\n",
        "           return False\n",
        "    return True\n",
        "\n",
        "if __name__ == \"__main__\":\n",
        "    prime_list = LinkedList()\n",
        "    print(\"Numbers that's Prime or Not Prime\")\n",
        "    for num in range(2, 20):\n",
        "        if is_prime(num):\n",
        "            prime_list.append(num)\n",
        "            print(f\"{num} is prime ✓\")\n",
        "        else:\n",
        "            print(f\"{num} is not prime ✗\")\n",
        "\n",
        "    print(\"\\n=== Prime Numbers in Linked List ===\")\n",
        "    prime_list.display()\n",
        "\n",
        "    print(f\"\\nHead (first element): {prime_list.ghead()}\")\n",
        "    print(f\"Tail (last element): {prime_list.gtail()}\")"
      ]
    },
    {
      "cell_type": "code",
      "execution_count": null,
      "metadata": {
        "id": "A8lQUSDfzHul"
      },
      "outputs": [],
      "source": []
    }
  ],
  "metadata": {
    "colab": {
      "provenance": [],
      "authorship_tag": "ABX9TyOgqQgL3PX5pqOIWHlm78s3",
      "include_colab_link": true
    },
    "kernelspec": {
      "display_name": "Python 3",
      "name": "python3"
    },
    "language_info": {
      "name": "python"
    }
  },
  "nbformat": 4,
  "nbformat_minor": 0
}