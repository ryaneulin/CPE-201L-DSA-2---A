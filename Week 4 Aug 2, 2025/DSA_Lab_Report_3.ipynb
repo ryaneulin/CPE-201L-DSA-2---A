{
  "nbformat": 4,
  "nbformat_minor": 0,
  "metadata": {
    "colab": {
      "provenance": [],
      "authorship_tag": "ABX9TyOsw+wu58uQs0cjZVRHE2tR",
      "include_colab_link": true
    },
    "kernelspec": {
      "name": "python3",
      "display_name": "Python 3"
    },
    "language_info": {
      "name": "python"
    }
  },
  "cells": [
    {
      "cell_type": "markdown",
      "metadata": {
        "id": "view-in-github",
        "colab_type": "text"
      },
      "source": [
        "<a href=\"https://colab.research.google.com/github/ryaneulin/CPE-201L-DSA-2---A/blob/main/DSA_Lab_Report_3.ipynb\" target=\"_parent\"><img src=\"https://colab.research.google.com/assets/colab-badge.svg\" alt=\"Open In Colab\"/></a>"
      ]
    },
    {
      "cell_type": "code",
      "execution_count": 3,
      "metadata": {
        "colab": {
          "base_uri": "https://localhost:8080/"
        },
        "id": "tNuRHpdBP88h",
        "outputId": "44c449eb-32b4-419d-a9b8-45d65903b7e1"
      },
      "outputs": [
        {
          "output_type": "stream",
          "name": "stdout",
          "text": [
            "26\n",
            "ODD NUMBER\n",
            "124\n",
            "ODD NUMBER\n",
            "186\n",
            "ODD NUMBER\n"
          ]
        }
      ],
      "source": [
        "# Design an algorithm and the corresponding flowchart\n",
        "# (Note: You may use LucidChart or any application)\n",
        "# for adding the test scores as given below if the number is even: 26,49,98,87,62,75\n",
        "# Translate the algorithm to a Python program (using Google Colab)\n",
        "# Save your source codes to GitHub\n",
        "\n",
        "# Algo\n",
        "# Start to initialize sum_tnum and scores\n",
        "# then, for even_number in scores:\n",
        "# if, even_number % 2 == 0:\n",
        "    # sum_tnum += even_number\n",
        "    # print(sum_tnum)\n",
        "# else,\n",
        "#   print(\"ODD NUMBER\")\n",
        "#   End\n",
        "\n",
        "sum_tnum = 0\n",
        "scores = [26,49,98,87,62,75]\n",
        "for even_number in scores:\n",
        "    if even_number % 2 == 0:\n",
        "        sum_tnum += even_number\n",
        "        print(sum_tnum)\n",
        "\n",
        "    else:\n",
        "        print(\"ODD NUMBER\")\n",
        "\n",
        "\n"
      ]
    }
  ]
}