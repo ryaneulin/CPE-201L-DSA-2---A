{
  "nbformat": 4,
  "nbformat_minor": 0,
  "metadata": {
    "colab": {
      "provenance": [],
      "authorship_tag": "ABX9TyPcpTWXkn3iOdzvzkGKa8Eb",
      "include_colab_link": true
    },
    "kernelspec": {
      "name": "python3",
      "display_name": "Python 3"
    },
    "language_info": {
      "name": "python"
    }
  },
  "cells": [
    {
      "cell_type": "markdown",
      "metadata": {
        "id": "view-in-github",
        "colab_type": "text"
      },
      "source": [
        "<a href=\"https://colab.research.google.com/github/ryaneulin/CPE-201L-DSA-2---A/blob/main/DSA_Lab_Report_9.ipynb\" target=\"_parent\"><img src=\"https://colab.research.google.com/assets/colab-badge.svg\" alt=\"Open In Colab\"/></a>"
      ]
    },
    {
      "cell_type": "markdown",
      "source": [
        "Instruction: Type the python codes below in your Colab. Reconstruct them by implementing Queues (FIFO) algorithm. Hint: You may use Array or Linked List"
      ],
      "metadata": {
        "id": "w9HE4Nt17B7U"
      }
    },
    {
      "cell_type": "code",
      "execution_count": 11,
      "metadata": {
        "colab": {
          "base_uri": "https://localhost:8080/"
        },
        "id": "2RfFlYQz6xut",
        "outputId": "06fc90d7-a6b9-47e8-b4ff-56ff6dbdfb2e"
      },
      "outputs": [
        {
          "output_type": "stream",
          "name": "stdout",
          "text": [
            "Display:  400, 50, 60, 70, 80, 90, 100\n",
            "Size:  7\n",
            "Dequeue:  400\n",
            "Display:  50, 60, 70, 80, 90, 100\n",
            "Size:  6\n"
          ]
        }
      ],
      "source": [
        "class Node:\n",
        "  def __init__(self, data):\n",
        "    self.data = data\n",
        "    self.next = None\n",
        "\n",
        "class LinkedListQueue:\n",
        "  def __init__(self):\n",
        "    self.front = None\n",
        "    self.rear = None\n",
        "    self.size = 0\n",
        "\n",
        "  def is_empty(self):\n",
        "    return self.front is None\n",
        "\n",
        "  def enqueue(self, item):\n",
        "    new_node = Node(item)\n",
        "    if self.rear is None:\n",
        "      self.front = self.rear = new_node\n",
        "\n",
        "    else:\n",
        "      self.rear.next = new_node\n",
        "      self.rear = new_node\n",
        "\n",
        "    self.size += 1\n",
        "\n",
        "  def dequeue(self):\n",
        "    if self.is_empty():\n",
        "      return \"NO Data Here!!\"\n",
        "\n",
        "    not_perma = self.front\n",
        "    self.front = self.front.next\n",
        "\n",
        "    if self.front is None:\n",
        "      self.rear = None\n",
        "\n",
        "    self.size -= 1\n",
        "    return not_perma.data\n",
        "\n",
        "  def get_size(self):\n",
        "    return self.size\n",
        "\n",
        "  def display(self):\n",
        "    if self.is_empty():\n",
        "      return \"No Stored value Here, Queue is Empty\"\n",
        "\n",
        "    value = []\n",
        "    current = self.front\n",
        "    while current:\n",
        "      value.append(str(current.data))\n",
        "      current = current.next\n",
        "\n",
        "    return \", \".join(value)\n",
        "\n",
        "\n",
        "if __name__ == \"__main__\":\n",
        "  llq = LinkedListQueue()\n",
        "\n",
        "  llq.enqueue(400)\n",
        "  llq.enqueue(50)\n",
        "  llq.enqueue(60)\n",
        "  llq.enqueue(70)\n",
        "  llq.enqueue(80)\n",
        "  llq.enqueue(90)\n",
        "  llq.enqueue(100)\n",
        "\n",
        "\n",
        "  print(\"Display: \", llq.display())\n",
        "  print(\"Size: \", llq.get_size())\n",
        "\n",
        "  print(\"Dequeue: \", llq.dequeue())\n",
        "  print(\"Display: \", llq.display())\n",
        "  print(\"Size: \", llq.get_size())\n",
        "\n"
      ]
    },
    {
      "cell_type": "code",
      "source": [],
      "metadata": {
        "id": "ODQqPs0cMVOf"
      },
      "execution_count": null,
      "outputs": []
    }
  ]
}