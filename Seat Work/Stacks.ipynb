{
  "nbformat": 4,
  "nbformat_minor": 0,
  "metadata": {
    "colab": {
      "provenance": [],
      "authorship_tag": "ABX9TyM/0K3/KXribsCEO0mJ5Vo1",
      "include_colab_link": true
    },
    "kernelspec": {
      "name": "python3",
      "display_name": "Python 3"
    },
    "language_info": {
      "name": "python"
    }
  },
  "cells": [
    {
      "cell_type": "markdown",
      "metadata": {
        "id": "view-in-github",
        "colab_type": "text"
      },
      "source": [
        "<a href=\"https://colab.research.google.com/github/ryaneulin/CPE-201L-DSA-2---A/blob/main/Stacks.ipynb\" target=\"_parent\"><img src=\"https://colab.research.google.com/assets/colab-badge.svg\" alt=\"Open In Colab\"/></a>"
      ]
    },
    {
      "cell_type": "code",
      "execution_count": 2,
      "metadata": {
        "colab": {
          "base_uri": "https://localhost:8080/"
        },
        "id": "dkCnvaNE87Np",
        "outputId": "8a7e62b5-17e7-4e3a-ca88-c3df556bbb4c"
      },
      "outputs": [
        {
          "output_type": "stream",
          "name": "stdout",
          "text": [
            "Sun\n",
            "Sat\n",
            "Fri\n",
            "Thu\n",
            "Wed\n",
            "Tue\n",
            "Mon\n",
            "\n",
            "Top element: Sun\n",
            "Stack Size: 7\n",
            "Is Empty? False\n"
          ]
        }
      ],
      "source": [
        "class Stack:\n",
        "    def __init__(self):\n",
        "        self.stack = []\n",
        "\n",
        "    def push(self, dataval):\n",
        "        # Use list append method to add element\n",
        "        if dataval not in self.stack:\n",
        "            self.stack.append(dataval)\n",
        "            return True\n",
        "        else:\n",
        "            return False\n",
        "\n",
        "    def pop(self):\n",
        "        # Remove and return the top element (last in first out)\n",
        "        if len(self.stack) <= 0:\n",
        "            return \"Stack is empty\"\n",
        "        else:\n",
        "            return self.stack.pop()\n",
        "    def retrieve(self):\n",
        "        for item in reversed(self.stack):\n",
        "          print(item)\n",
        "\n",
        "    def peek(self):\n",
        "        if self.is_empty():\n",
        "            return \"Stack is Empty\"\n",
        "        return self.stack[-1]\n",
        "\n",
        "    def size(self):\n",
        "        return len(self.stack)\n",
        "\n",
        "    def is_empty(self):\n",
        "        return self.size() == 0\n",
        "\n",
        "\n",
        "AStack = Stack()\n",
        "AStack.push(\"Mon\")\n",
        "AStack.push(\"Tue\")\n",
        "AStack.push(\"Wed\")\n",
        "AStack.push(\"Thu\")\n",
        "AStack.push(\"Fri\")\n",
        "AStack.push(\"Sat\")\n",
        "AStack.push(\"Sun\")\n",
        "AStack.retrieve()\n",
        "\n",
        "print(f\"\\nTop element: {AStack.peek()}\")\n",
        "print(f\"Stack Size: {AStack.size()}\")\n",
        "print(f\"Is Empty? {AStack.is_empty()}\")\n"
      ]
    }
  ]
}